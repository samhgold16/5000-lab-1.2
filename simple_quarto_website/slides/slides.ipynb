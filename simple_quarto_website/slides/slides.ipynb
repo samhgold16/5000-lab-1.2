{
 "cells": [
  {
   "cell_type": "markdown",
   "id": "bc13ced0",
   "metadata": {},
   "source": [
    "---\n",
    "title: \"My Slides File for Lab 3\"\n",
    "author: \"Sam Gold\"\n",
    "format: revealjs\n",
    "---"
   ]
  },
  {
   "cell_type": "markdown",
   "id": "bbd1689c",
   "metadata": {},
   "source": [
    "## "
   ]
  },
  {
   "cell_type": "markdown",
   "id": "5a2ea1dc",
   "metadata": {},
   "source": [
    "##"
   ]
  },
  {
   "cell_type": "markdown",
   "id": "4ceb9a32",
   "metadata": {},
   "source": [
    "##"
   ]
  }
 ],
 "metadata": {
  "language_info": {
   "name": "python"
  }
 },
 "nbformat": 4,
 "nbformat_minor": 5
}
